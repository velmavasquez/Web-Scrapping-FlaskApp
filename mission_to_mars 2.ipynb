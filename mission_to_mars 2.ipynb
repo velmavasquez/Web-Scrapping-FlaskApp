{
 "cells": [
  {
   "cell_type": "code",
   "execution_count": 1,
   "metadata": {},
   "outputs": [],
   "source": [
    "# Dependencies\n",
    "from bs4 import BeautifulSoup\n",
    "import requests\n",
    "from splinter import Browser\n",
    "import time\n",
    "import pandas as pd"
   ]
  },
  {
   "cell_type": "markdown",
   "metadata": {},
   "source": [
    "# Mac Users"
   ]
  },
  {
   "cell_type": "code",
   "execution_count": 2,
   "metadata": {},
   "outputs": [],
   "source": [
    "# https://splinter.readthedocs.io/en/latest/drivers/chrome.html\n",
    "# !which chromedriver\n",
    "# executable_path = {'executable_path': '/usr/local/bin/chromedriver'}\n",
    "# browser = Browser('chrome', **executable_path, headless=False)"
   ]
  },
  {
   "cell_type": "code",
   "execution_count": 3,
   "metadata": {},
   "outputs": [],
   "source": [
    "# @NOTE: Replace the path with your actual path to the chromedriver\n",
    "def init_browser():\n",
    "    executable_path = {\"executable_path\": \"/usr/local/bin/chromedriver\"}\n",
    "    return Browser(\"chrome\", **executable_path, headless=False)"
   ]
  },
  {
   "cell_type": "markdown",
   "metadata": {},
   "source": [
    "# Mars News"
   ]
  },
  {
   "cell_type": "code",
   "execution_count": 4,
   "metadata": {},
   "outputs": [
    {
     "name": "stdout",
     "output_type": "stream",
     "text": [
      "Why This Martian Full Moon Looks Like Candy\n",
      "-----------------\n",
      "For the first time, NASA's Mars Odyssey orbiter has caught the Martian moon Phobos during a full moon phase. Each color in this new image represents a temperature range detected by Odyssey's infrared camera.\n"
     ]
    }
   ],
   "source": [
    "def scrape_news():\n",
    "    \n",
    "    # start browser\n",
    "    browser = init_browser()\n",
    "\n",
    "    # set and visit url\n",
    "    url = 'https://mars.nasa.gov/news/'\n",
    "    browser.visit(url)\n",
    "\n",
    "    time.sleep(1)\n",
    "\n",
    "    # Scrape page into Soup\n",
    "    html = browser.html\n",
    "    soup = BeautifulSoup(html, \"html.parser\")\n",
    "\n",
    "    # Collect Nasa latest News Title with corresponding Paragraph Text\n",
    "    news_titles = soup.find(\"div\", class_=\"content_title\").get_text()\n",
    "    news_p = soup.find(\"div\", class_=\"article_teaser_body\").get_text()\n",
    "\n",
    "    # Store data in a dictionary\n",
    "    latest_data = {\n",
    "        \"news title\": news_titles,\n",
    "        \"news p\": news_p\n",
    "    }\n",
    "\n",
    "    # Close the browser after scraping\n",
    "\n",
    "    # Return results\n",
    "    return latest_data\n",
    "\n",
    "latest_news = scrape_news()\n",
    "print(latest_news[\"news title\"])\n",
    "print('-----------------')\n",
    "print(latest_news[\"news p\"])"
   ]
  },
  {
   "cell_type": "markdown",
   "metadata": {},
   "source": [
    "\n",
    "# JPL Mars Space Images - Featured Image"
   ]
  },
  {
   "cell_type": "code",
   "execution_count": 5,
   "metadata": {},
   "outputs": [
    {
     "name": "stdout",
     "output_type": "stream",
     "text": [
      "https://www.jpl.nasa.gov/spaceimages/images/wallpaper/PIA19168-1920x1200.jpg\n"
     ]
    }
   ],
   "source": [
    "def scrape_image():\n",
    "    \n",
    "    # start browser\n",
    "    browser = init_browser()\n",
    "\n",
    "    # set and visit url\n",
    "    url = 'https://www.jpl.nasa.gov/spaceimages/?search=&category=Mars'\n",
    "    browser.visit(url)\n",
    "\n",
    "    time.sleep(1)\n",
    "\n",
    "    # Scrape page into Soup\n",
    "    html = browser.html\n",
    "    soup = BeautifulSoup(html, \"html.parser\")\n",
    "\n",
    "    # find the image url for the current Featured Mars Image and assign the url string to a variable called\n",
    "    # featured_image_url\n",
    "\n",
    "    relative_image_path = soup.find('article')['style'].replace('background-image: url(','').replace(');','')[1:-1]\n",
    "    featured_img_url = 'https://www.jpl.nasa.gov' + relative_image_path\n",
    "\n",
    "    # Return results\n",
    "    return featured_img_url\n",
    "\n",
    "featured_img_url = scrape_image()\n",
    "print(featured_img_url)\n"
   ]
  },
  {
   "cell_type": "markdown",
   "metadata": {},
   "source": [
    "# Mars Weather"
   ]
  },
  {
   "cell_type": "code",
   "execution_count": 6,
   "metadata": {},
   "outputs": [
    {
     "name": "stdout",
     "output_type": "stream",
     "text": [
      "InSight sol 162 (2019-05-12) low -100.2ºC (-148.3ºF) high -20.3ºC (-4.5ºF)\n",
      "winds from the SW at 4.5 m/s (10.1 mph) gusting to 14.3 m/s (32.0 mph)\n",
      "pressure at 7.50 hPa\n"
     ]
    }
   ],
   "source": [
    "def scrape_twitter():\n",
    "    \n",
    "    # start browser\n",
    "    browser = init_browser()\n",
    "\n",
    "    # set and visit url\n",
    "    url = 'https://twitter.com/marswxreport?lang=en'\n",
    "    browser.visit(url)\n",
    "\n",
    "    time.sleep(1)\n",
    "\n",
    "    # Scrape page into Soup\n",
    "    html = browser.html\n",
    "    soup = BeautifulSoup(html, \"html.parser\")\n",
    "    \n",
    "    #Scrape the latest Mars weather tweet from the page\n",
    "    \n",
    "    results = soup.find('div' , class_=\"js-tweet-text-container\")\n",
    "    \n",
    "    latest_tweet = results.find('p', class_='TweetTextSize TweetTextSize--normal js-tweet-text tweet-text')\n",
    "    \n",
    "    [s.extract()for s in latest_tweet('a')]\n",
    "    \n",
    "    tweet_weather = latest_tweet.text\n",
    "    \n",
    "    \n",
    "#     results = soup.find_all('div', class_='js-tweet-text-container')\n",
    "#     latest_tweet= print(\" \".join(results[0].p.text.split()[:-1]))\n",
    "\n",
    "    return tweet_weather\n",
    "\n",
    "latest_tweet = scrape_twitter()\n",
    "print(latest_tweet)\n",
    "    \n"
   ]
  },
  {
   "cell_type": "markdown",
   "metadata": {},
   "source": [
    "# Mars Facts"
   ]
  },
  {
   "cell_type": "code",
   "execution_count": 7,
   "metadata": {},
   "outputs": [
    {
     "data": {
      "text/html": [
       "<div>\n",
       "<style scoped>\n",
       "    .dataframe tbody tr th:only-of-type {\n",
       "        vertical-align: middle;\n",
       "    }\n",
       "\n",
       "    .dataframe tbody tr th {\n",
       "        vertical-align: top;\n",
       "    }\n",
       "\n",
       "    .dataframe thead th {\n",
       "        text-align: right;\n",
       "    }\n",
       "</style>\n",
       "<table border=\"1\" class=\"dataframe\">\n",
       "  <thead>\n",
       "    <tr style=\"text-align: right;\">\n",
       "      <th></th>\n",
       "      <th>Values</th>\n",
       "    </tr>\n",
       "    <tr>\n",
       "      <th>Mars Planet Profile</th>\n",
       "      <th></th>\n",
       "    </tr>\n",
       "  </thead>\n",
       "  <tbody>\n",
       "    <tr>\n",
       "      <th>Equatorial Diameter:</th>\n",
       "      <td>6,792 km</td>\n",
       "    </tr>\n",
       "    <tr>\n",
       "      <th>Polar Diameter:</th>\n",
       "      <td>6,752 km</td>\n",
       "    </tr>\n",
       "    <tr>\n",
       "      <th>Mass:</th>\n",
       "      <td>6.42 x 10^23 kg (10.7% Earth)</td>\n",
       "    </tr>\n",
       "    <tr>\n",
       "      <th>Moons:</th>\n",
       "      <td>2 (Phobos &amp; Deimos)</td>\n",
       "    </tr>\n",
       "    <tr>\n",
       "      <th>Orbit Distance:</th>\n",
       "      <td>227,943,824 km (1.52 AU)</td>\n",
       "    </tr>\n",
       "  </tbody>\n",
       "</table>\n",
       "</div>"
      ],
      "text/plain": [
       "                                             Values\n",
       "Mars Planet Profile                                \n",
       "Equatorial Diameter:                       6,792 km\n",
       "Polar Diameter:                            6,752 km\n",
       "Mass:                 6.42 x 10^23 kg (10.7% Earth)\n",
       "Moons:                          2 (Phobos & Deimos)\n",
       "Orbit Distance:            227,943,824 km (1.52 AU)"
      ]
     },
     "execution_count": 7,
     "metadata": {},
     "output_type": "execute_result"
    }
   ],
   "source": [
    "# Use Pandas to convert the data to a HTML table string.\n",
    "url = 'https://space-facts.com/mars/'\n",
    "\n",
    "tables = pd.read_html(url)\n",
    "\n",
    "df = tables[0]\n",
    "df.columns = ['Mars Planet Profile', 'Values']\n",
    "\n",
    "df.set_index('Mars Planet Profile', inplace=True)\n",
    "df.head()\n"
   ]
  },
  {
   "cell_type": "code",
   "execution_count": 8,
   "metadata": {},
   "outputs": [
    {
     "data": {
      "text/plain": [
       "'<table border=\"1\" class=\"dataframe\">\\n  <thead>\\n    <tr style=\"text-align: right;\">\\n      <th></th>\\n      <th>Values</th>\\n    </tr>\\n    <tr>\\n      <th>Mars Planet Profile</th>\\n      <th></th>\\n    </tr>\\n  </thead>\\n  <tbody>\\n    <tr>\\n      <th>Equatorial Diameter:</th>\\n      <td>6,792 km</td>\\n    </tr>\\n    <tr>\\n      <th>Polar Diameter:</th>\\n      <td>6,752 km</td>\\n    </tr>\\n    <tr>\\n      <th>Mass:</th>\\n      <td>6.42 x 10^23 kg (10.7% Earth)</td>\\n    </tr>\\n    <tr>\\n      <th>Moons:</th>\\n      <td>2 (Phobos &amp; Deimos)</td>\\n    </tr>\\n    <tr>\\n      <th>Orbit Distance:</th>\\n      <td>227,943,824 km (1.52 AU)</td>\\n    </tr>\\n    <tr>\\n      <th>Orbit Period:</th>\\n      <td>687 days (1.9 years)</td>\\n    </tr>\\n    <tr>\\n      <th>Surface Temperature:</th>\\n      <td>-153 to 20 °C</td>\\n    </tr>\\n    <tr>\\n      <th>First Record:</th>\\n      <td>2nd millennium BC</td>\\n    </tr>\\n    <tr>\\n      <th>Recorded By:</th>\\n      <td>Egyptian astronomers</td>\\n    </tr>\\n  </tbody>\\n</table>'"
      ]
     },
     "execution_count": 8,
     "metadata": {},
     "output_type": "execute_result"
    }
   ],
   "source": [
    "html_table = df.to_html()\n",
    "html_table\n"
   ]
  },
  {
   "cell_type": "markdown",
   "metadata": {},
   "source": [
    "# Mars Hemispheres"
   ]
  },
  {
   "cell_type": "code",
   "execution_count": 9,
   "metadata": {},
   "outputs": [
    {
     "data": {
      "text/plain": [
       "[{'title': 'Cerberus Hemisphere Enhanced',\n",
       "  'img_url': '/search/map/Mars/Viking/cerberus_enhanced/cache/images/cfa62af2557222a02478f1fcd781d445_cerberus_enhanced.tif_full.jpg'},\n",
       " {'title': 'Schiaparelli Hemisphere Enhanced',\n",
       "  'img_url': '/search/map/Mars/Viking/schiaparelli_enhanced/cache/images/3cdd1cbf5e0813bba925c9030d13b62e_schiaparelli_enhanced.tif_full.jpg'},\n",
       " {'title': 'Syrtis Major Hemisphere Enhanced',\n",
       "  'img_url': '/search/map/Mars/Viking/syrtis_major_enhanced/cache/images/ae209b4e408bb6c3e67b6af38168cf28_syrtis_major_enhanced.tif_full.jpg'},\n",
       " {'title': 'Valles Marineris Hemisphere Enhanced',\n",
       "  'img_url': '/search/map/Mars/Viking/valles_marineris_enhanced/cache/images/7cf2da4bf549ed01c17f206327be4db7_valles_marineris_enhanced.tif_full.jpg'}]"
      ]
     },
     "execution_count": 9,
     "metadata": {},
     "output_type": "execute_result"
    }
   ],
   "source": [
    "def scrape_hemispheres():\n",
    "    \n",
    "    # start browser\n",
    "    browser = init_browser()\n",
    "\n",
    "    # set and visit url\n",
    "    url = 'https://astrogeology.usgs.gov/search/results?q=hemisphere+enhanced&k1=target&v1=Mars'\n",
    "    browser.visit(url)\n",
    "\n",
    "    time.sleep(1)\n",
    "\n",
    "    # Scrape page into Soup\n",
    "    html = browser.html\n",
    "    soup = BeautifulSoup(html, \"html.parser\")\n",
    "    \n",
    "\n",
    "    # Collect Nasa latest News Title with corresponding Paragraph Text\n",
    "    items = soup.find_all(\"div\", class_=\"item\")\n",
    "    \n",
    "    hemisphere_image_urls= []\n",
    "    \n",
    "    astropedia_url = 'https://astrogeology.usgs.gov'\n",
    "    \n",
    "    for item in items:\n",
    "        \n",
    "        hemi_title = item.find('h3').text\n",
    "        \n",
    "        hemi_link = item.find('a', class_=\"itemLink product-item\")['href']\n",
    "        \n",
    "        browser.visit(astropedia_url + hemi_link)\n",
    "        \n",
    "        html2 = browser.html\n",
    "        \n",
    "        soup = BeautifulSoup(html2, \"html.parser\")\n",
    "        \n",
    "        img_url = hemi_link + soup.find('img', class_=\"wide-image\")['src']\n",
    "        \n",
    "        #Store data in a dictionary\n",
    "        \n",
    "        data = {\n",
    "        \"title\": hemi_title,\n",
    "        \"img_url\": img_url\n",
    "        }\n",
    "        \n",
    "        hemisphere_image_urls.append(data)\n",
    "    \n",
    "    return hemisphere_image_urls\n",
    "\n",
    "hemisphere_image_urls = scrape_hemispheres()\n",
    "hemisphere_image_urls\n"
   ]
  },
  {
   "cell_type": "code",
   "execution_count": 10,
   "metadata": {},
   "outputs": [
    {
     "data": {
      "text/plain": [
       "[{'title': 'Cerberus Hemisphere Enhanced',\n",
       "  'img_url': '/search/map/Mars/Viking/cerberus_enhanced/cache/images/cfa62af2557222a02478f1fcd781d445_cerberus_enhanced.tif_full.jpg'},\n",
       " {'title': 'Schiaparelli Hemisphere Enhanced',\n",
       "  'img_url': '/search/map/Mars/Viking/schiaparelli_enhanced/cache/images/3cdd1cbf5e0813bba925c9030d13b62e_schiaparelli_enhanced.tif_full.jpg'},\n",
       " {'title': 'Syrtis Major Hemisphere Enhanced',\n",
       "  'img_url': '/search/map/Mars/Viking/syrtis_major_enhanced/cache/images/ae209b4e408bb6c3e67b6af38168cf28_syrtis_major_enhanced.tif_full.jpg'},\n",
       " {'title': 'Valles Marineris Hemisphere Enhanced',\n",
       "  'img_url': '/search/map/Mars/Viking/valles_marineris_enhanced/cache/images/7cf2da4bf549ed01c17f206327be4db7_valles_marineris_enhanced.tif_full.jpg'}]"
      ]
     },
     "execution_count": 10,
     "metadata": {},
     "output_type": "execute_result"
    }
   ],
   "source": [
    "def scrape_hemispheres2():\n",
    "    \n",
    "    url = \"https://astrogeology.usgs.gov/search/results?q=hemisphere+enhanced&k1=target&v1=Mars\"\n",
    "    browser.visit(url)\n",
    "\n",
    "    time.sleep(1)\n",
    "\n",
    "    # Scrape page into Soup\n",
    "    html = browser.html\n",
    "    soup = BeautifulSoup(html, \"html.parser\")\n",
    "\n",
    "    # Collect Website 1 urls\n",
    "    items = soup.find_all(\"div\", class_=\"item\")\n",
    "\n",
    "    hemi_imgs = []\n",
    "\n",
    "    # astropedia_url = \"https://astrogeology.usgs.gov\"\n",
    "\n",
    "    for item in items:\n",
    "        try:\n",
    "            title = item.find(\"div\", class_=\"description\")\n",
    "            hemi_title = title.a.text\n",
    "\n",
    "            browser.click_link_by_partial_text(hemi_title)\n",
    "            html2 = browser.html\n",
    "            soup_2 = BeautifulSoup(html2, \"html.parser\")\n",
    "\n",
    "            hemi_link = soup_2.find(\"div\", class_=\"downloads\").find(\"li\").a[\"href\"]\n",
    "            hemi_title = soup_2.find(\"h2\", class_=\"title\").text\n",
    "\n",
    "            # Store data in a dictionary\n",
    "            data = {\"title\": hemi_title, \"img_url\": hemi_link}\n",
    "\n",
    "            hemi_imgs.append(data)\n",
    "\n",
    "            browser.visit(url)\n",
    "\n",
    "        except AttributeError as e:\n",
    "            print(\"Error:\", e)\n",
    "            \n",
    "    return hemi_ims_urls\n",
    "\n",
    "hemi_imgs= scrape_hemispheres()\n",
    "hemi_imgs\n"
   ]
  },
  {
   "cell_type": "code",
   "execution_count": 12,
   "metadata": {},
   "outputs": [
    {
     "data": {
      "text/plain": [
       "list"
      ]
     },
     "execution_count": 12,
     "metadata": {},
     "output_type": "execute_result"
    }
   ],
   "source": [
    "type (hemi_imgs)\n"
   ]
  },
  {
   "cell_type": "code",
   "execution_count": null,
   "metadata": {},
   "outputs": [],
   "source": []
  }
 ],
 "metadata": {
  "kernelspec": {
   "display_name": "Python 3",
   "language": "python",
   "name": "python3"
  },
  "language_info": {
   "codemirror_mode": {
    "name": "ipython",
    "version": 3
   },
   "file_extension": ".py",
   "mimetype": "text/x-python",
   "name": "python",
   "nbconvert_exporter": "python",
   "pygments_lexer": "ipython3",
   "version": "3.7.1"
  }
 },
 "nbformat": 4,
 "nbformat_minor": 2
}
